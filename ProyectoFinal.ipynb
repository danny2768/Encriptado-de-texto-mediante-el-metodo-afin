{
 "cells": [
  {
   "cell_type": "markdown",
   "metadata": {
    "collapsed": true
   },
   "source": [
    "# Encriptado por el método AFIN"
   ]
  },
  {
   "cell_type": "markdown",
   "metadata": {},
   "source": [
    "**Integrantes:**\n",
    "\n",
    "**-Daniel Eduardo Cobos Ayala**\n",
    "\n",
    "**-Laura Vanessa Mendez Rivera**\n",
    "\n",
    "**-Cesar Luis Hurtado Rodriguez**"
   ]
  },
  {
   "cell_type": "markdown",
   "metadata": {},
   "source": [
    "# Introduccion."
   ]
  },
  {
   "cell_type": "markdown",
   "metadata": {},
   "source": [
    "La finalidad de este proyecto es crear un sistema de encriptacion a través del método AFIN.\n",
    "\n",
    "\n",
    "El cifrado afín es un tipo de cifrado por sustitucion mono–alfabético en el que a cada carácter del mensaje se le aplica una funcion matemática afín (ax + b) en aritmetica modular. Que un cifrado sea mono–alfabético quiere decir que a cada letra le corresponde una unica letra encriptada, siendo esta correspondecia biunévoca.\n",
    "\n",
    "Dados un mensaje m = m1, m2 . . . , donde cada mi es el entero correspondiente a la i–esima letra del mensaje, y una clave constituida por un par de números enteros k = (k1, k2) el procedimiento de cifrado consiste en multiplicar cada entero mi por k1 y despues sumarle k2, todo en modulo 27. Por tanto la función encriptadora F se define por:"
   ]
  },
  {
   "cell_type": "markdown",
   "metadata": {},
   "source": [
    "<b>$F(m_i, k) = (k_1 * m_i) + k_2 mod 27$</b>\n"
   ]
  },
  {
   "cell_type": "markdown",
   "metadata": {},
   "source": [
    "Para efectos practicos se definio:"
   ]
  },
  {
   "cell_type": "markdown",
   "metadata": {},
   "source": [
    "<b>$k_1 = 2$</b>\n"
   ]
  },
  {
   "cell_type": "markdown",
   "metadata": {},
   "source": [
    "<b>$k_2 = 4$</b>\n"
   ]
  },
  {
   "cell_type": "code",
   "execution_count": null,
   "metadata": {
    "collapsed": false
   },
   "outputs": [],
   "source": [
    "    from automata.tm.dtm import DTM\n",
    "    d = DTM(\n",
    "        states={'q0', 'q1', 'q2','q3','q4','q5'},\n",
    "        input_symbols={'A', 'B', 'C', 'D', 'E', 'F', 'G', 'H', 'I','J','K','L','M','N','Ñ','O','P','Q','R','S','T','U','V','W','X','Y','Z','0',' ','#'},\n",
    "        tape_symbols={'A', 'B', 'C', 'D', 'E', 'F', 'G', 'H', 'I','J','K','L','M','N','Ñ','O','P','Q','R','S','T','U','V','W','X','Y','Z','0','-',' ','#'},\n",
    "        transitions={\n",
    "            'q0': {\n",
    "                '#': ('q1', '-', 'R'),\n",
    "                'A': ('q3', 'Y', 'R'),\n",
    "                'B': ('q3', 'L', 'R'),\n",
    "                'C': ('q3', 'Z', 'R'),\n",
    "                'D': ('q3', 'M', 'R'),\n",
    "                'E': ('q3', 'A', 'R'),\n",
    "                'F': ('q3', 'N', 'R'),\n",
    "                'G': ('q3', 'B', 'R'),\n",
    "                'H': ('q3', 'O', 'R'),\n",
    "                'I': ('q3', 'C', 'R'),\n",
    "                'J': ('q3', 'P', 'R'),\n",
    "                'K': ('q3', 'D', 'R'),\n",
    "                'L': ('q3', 'Q', 'R'),\n",
    "                'M': ('q3', 'E', 'R'),\n",
    "                'N': ('q3', 'R', 'R'),\n",
    "                'Ñ': ('q3', 'F', 'R'),\n",
    "                'O': ('q3', 'S', 'R'),\n",
    "                'P': ('q3', 'G', 'R'),\n",
    "                'Q': ('q3', 'T', 'R'),\n",
    "                'R': ('q3', 'H', 'R'),\n",
    "                'S': ('q3', 'U', 'R'),\n",
    "                'T': ('q3', 'I', 'R'),\n",
    "                'U': ('q3', 'V', 'R'),\n",
    "                'V': ('q3', 'J', 'R'),\n",
    "                'W': ('q3', 'W', 'R'),\n",
    "                'X': ('q3', 'K', 'R'),\n",
    "                'Y': ('q3', 'X', 'R'),\n",
    "                'Z': ('q3', 'D', 'R'),\n",
    "                '0': ('q3', ' ', 'R')\n",
    "                },\n",
    "            \n",
    "            'q1': {\n",
    "                'A': ('q2', 'E', 'R'),\n",
    "                'B': ('q2', 'G', 'R'),\n",
    "                'C': ('q2', 'I', 'R'),\n",
    "                'D': ('q2', 'K', 'R'),\n",
    "                'E': ('q2', 'M', 'R'),\n",
    "                'F': ('q2', 'Ñ', 'R'),\n",
    "                'G': ('q2', 'P', 'R'),\n",
    "                'H': ('q2', 'R', 'R'),\n",
    "                'I': ('q2', 'T', 'R'),\n",
    "                'J': ('q2', 'V', 'R'),\n",
    "                'K': ('q2', 'X', 'R'),\n",
    "                'L': ('q2', 'Z', 'R'),\n",
    "                'M': ('q2', 'B', 'R'),\n",
    "                'N': ('q2', 'D', 'R'),\n",
    "                'Ñ': ('q2', 'F', 'R'),\n",
    "                'O': ('q2', 'H', 'R'),\n",
    "                'P': ('q2', 'J', 'R'),\n",
    "                'Q': ('q2', 'L', 'R'),\n",
    "                'R': ('q2', 'N', 'R'),\n",
    "                'S': ('q2', 'O', 'R'),\n",
    "                'T': ('q2', 'Q', 'R'),\n",
    "                'U': ('q2', 'S', 'R'),\n",
    "                'V': ('q2', 'U', 'R'),\n",
    "                'W': ('q2', 'W', 'R'),\n",
    "                'X': ('q2', 'Y', 'R'),\n",
    "                'Y': ('q2', 'A', 'R'),\n",
    "                'Z': ('q2', 'C', 'R'),\n",
    "                ' ': ('q2', '0', 'R')\n",
    "                },\n",
    "            \n",
    "            'q2': {\n",
    "                'A': ('q2', 'E', 'R'),\n",
    "                'B': ('q2', 'G', 'R'),\n",
    "                'C': ('q2', 'I', 'R'),\n",
    "                'D': ('q2', 'K', 'R'),\n",
    "                'E': ('q2', 'M', 'R'),\n",
    "                'F': ('q2', 'Ñ', 'R'),\n",
    "                'G': ('q2', 'P', 'R'),\n",
    "                'H': ('q2', 'R', 'R'),\n",
    "                'I': ('q2', 'T', 'R'),\n",
    "                'J': ('q2', 'V', 'R'),\n",
    "                'K': ('q2', 'X', 'R'),\n",
    "                'L': ('q2', 'Z', 'R'),\n",
    "                'M': ('q2', 'B', 'R'),\n",
    "                'N': ('q2', 'D', 'R'),\n",
    "                'Ñ': ('q2', 'F', 'R'),\n",
    "                'O': ('q2', 'H', 'R'),\n",
    "                'P': ('q2', 'J', 'R'),\n",
    "                'Q': ('q2', 'L', 'R'),\n",
    "                'R': ('q2', 'N', 'R'),\n",
    "                'S': ('q2', 'O', 'R'),\n",
    "                'T': ('q2', 'Q', 'R'),\n",
    "                'U': ('q2', 'S', 'R'),\n",
    "                'V': ('q2', 'U', 'R'),\n",
    "                'W': ('q2', 'W', 'R'),\n",
    "                'X': ('q2', 'Y', 'R'),\n",
    "                'Y': ('q2', 'A', 'R'),\n",
    "                'Z': ('q2', 'C', 'R'),\n",
    "                ' ': ('q2', '0', 'R'),\n",
    "                '-': ('q5', '-', 'L')\n",
    "                },\n",
    "            \n",
    "            'q3': {\n",
    "                'A': ('q3', 'Y', 'R'),\n",
    "                'B': ('q3', 'L', 'R'),\n",
    "                'C': ('q3', 'Z', 'R'),\n",
    "                'D': ('q3', 'M', 'R'),\n",
    "                'E': ('q3', 'A', 'R'),\n",
    "                'F': ('q3', 'N', 'R'),\n",
    "                'G': ('q3', 'B', 'R'),\n",
    "                'H': ('q3', 'O', 'R'),\n",
    "                'I': ('q3', 'C', 'R'),\n",
    "                'J': ('q3', 'P', 'R'),\n",
    "                'K': ('q3', 'D', 'R'),\n",
    "                'L': ('q3', 'Q', 'R'),\n",
    "                'M': ('q3', 'E', 'R'),\n",
    "                'N': ('q3', 'R', 'R'),\n",
    "                'Ñ': ('q3', 'F', 'R'),\n",
    "                'O': ('q3', 'S', 'R'),\n",
    "                'P': ('q3', 'G', 'R'),\n",
    "                'Q': ('q3', 'T', 'R'),\n",
    "                'R': ('q3', 'H', 'R'),\n",
    "                'S': ('q3', 'U', 'R'),\n",
    "                'T': ('q3', 'I', 'R'),\n",
    "                'U': ('q3', 'V', 'R'),\n",
    "                'V': ('q3', 'J', 'R'),\n",
    "                'W': ('q3', 'W', 'R'),\n",
    "                'X': ('q3', 'K', 'R'),\n",
    "                'Y': ('q3', 'X', 'R'),\n",
    "                'Z': ('q3', 'D', 'R'),\n",
    "                '-': ('q5', '-', 'L')\n",
    "                \n",
    "        }\n",
    "    },\n",
    "    initial_state='q0',\n",
    "    blank_symbol='-',\n",
    "    final_states={'q5'}\n",
    "    )"
   ]
  },
  {
   "cell_type": "code",
   "execution_count": null,
   "metadata": {
    "collapsed": false
   },
   "outputs": [
    {
     "name": "stdout",
     "output_type": "stream",
     "text": [
      "Bienvenido al cifrador por el metodo AFIN\n",
      "Para encriptar una cadena de texto por favor ingresela a contunuación: \n",
      "\n"
     ]
    }
   ],
   "source": [
    "print(\"Bienvenido al cifrador por el metodo AFIN\\n\"\n",
    "     \"Para encriptar una cadena de texto por favor ingresela a contunuación: \\n\")\n",
    "mensaje = input()\n",
    "mensaje = mensaje.upper()\n",
    "mensaje = \"#\"+ mensaje\n",
    "try:\n",
    "    print(d.validate_input(mensaje))  \n",
    "except Exception as e:\n",
    "        print(\"Por favor ingrese una cadena de texto valida.\\n\") "
   ]
  },
  {
   "cell_type": "code",
   "execution_count": null,
   "metadata": {
    "collapsed": true
   },
   "outputs": [],
   "source": []
  }
 ],
 "metadata": {
  "kernelspec": {
   "display_name": "Python 3",
   "language": "python",
   "name": "python3"
  },
  "language_info": {
   "codemirror_mode": {
    "name": "ipython",
    "version": 3
   },
   "file_extension": ".py",
   "mimetype": "text/x-python",
   "name": "python",
   "nbconvert_exporter": "python",
   "pygments_lexer": "ipython3",
   "version": "3.6.2"
  }
 },
 "nbformat": 4,
 "nbformat_minor": 0
}
